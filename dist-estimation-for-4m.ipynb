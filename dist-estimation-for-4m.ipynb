{
 "cells": [
  {
   "cell_type": "code",
   "execution_count": 1,
   "id": "fdc8941c",
   "metadata": {},
   "outputs": [],
   "source": [
    "d = [-83, -84, -76, -85, -75, -83, -82, -84, -83, -85, -83, -82, -75, -85, -76, -69, -83, -82, -82, -83, -84, -83, -83, -82, -84, -60, -83, -84, -84, -83, -85, -69, -83, -83, -83, -83, -77, -70, -70, -76, -83, -82, -85, -82, -85, -69, -83, -72, -76, -78, -83, -85, -84, -76, -83, -68, -84, -83, -77, -83, -83, -84, -84, -75, -84, -77, -75, -76, -75, -82, -84, -83, -83, -76, -75, -70, -84, -76, -76, -76, -85, -84, -83, -72, -84, -75, -70, -76, -76, -85, -70, -84, -84, -83, -75, -76, -76, -83, -84, -69, -79, -82, -59, -83, -59, -76, -84, -83, -76, -84, -83, -76, -84, -83, -83, -78, -75, -77, -83, -83, -83, -84, -75, -85, -84, -75, -83, -82, -85, -75, -85, -82, -83, -84, -84, -84, -84, -86, -83, -84, -83, -60, -70, -83, -82, -75, -84, -85, -83, -83, -83, -83, -76, -82, -70, -83, -83, -85, -84, -83, -83, -84, -83, -84, -76, -83, -76, -85, -84, -83, -83, -84, -82, -83, -83, -70, -84, -75, -84, -84, -84, -83, -82, -83, -66, -83, -84, -83, -82, -83, -77, -83, -83, -75, -83, -83, -83, -84, -84, -82, -83, -82, -70, -76, -85, -82, -85, -76, -83, -84, -84, -84, -85, -83, -69, -83, -85, -82, -75, -84, -76, -83, -83, -83, -75, -84, -83, -83, -84, -76, -83, -83, -76, -63, -82, -83, -83, -82, -60, -83, -71, -77, -77, -85, -83, -83, -76, -83, -77, -60, -84, -83, -75, -83, -83, -75, -60, -74, -76, -74, -83, -76, -83, -84, -83, -76, -77, -76, -84, -75, -83, -84, -84, -75, -75, -85, -83, -82, -70, -84, -83, -76, -76, -83, -85, -84, -75, -83, -76, -84, -69, -85, -76, -62, -84, -83, -84, -76, -84, -84, -84, -71, -82, -76, -83, -84, -71, -83, -71, -85, -84, -84, -83, -76, -71, -60, -83, -84, -84, -83, -84, -83, -85, -83, -85, -75, -59, -83, -82, -83, -84, -82, -83, -84, -82, -85, -83, -62, -83, -85, -60, -82, -85, -84, -83, -83, -83, -83, -84, -84, -83, -84, -84, -83, -76, -83, -83, -84, -83, -59, -83, -76, -85, -83, -83, -75, -83, -79, -59, -83, -83, -83, -83, -76, -75, -70, -86, -76, -75, -76, -84, -84, -84, -75, -76, -83, -75, -75, -83, -85, -86, -83, -85, -75, -62, -76, -70, -85, -84, -84, -85, -76, -59, -75, -76, -85, -83, -76, -84, -83, -75, -75, -83, -70, -70, -75, -82, -85, -76, -82, -75, -77, -85, -75, -85, -76, -82, -84, -75, -83, -83, -84, -83, -83, -83, -83, -84, -70, -83, -76, -76, -83, -83, -83, -84, -75, -82, -83, -83, -83, -69, -86, -83, -84, -83, -75, -85, -82, -84, -83, -71, -84, -75, -84, -60, -84, -83, -84, -83, -72, -83, -83, -82, -83, -82, -76, -75, -70, -75, -83, -82, -83, -83, -83, -83, -83, -84, -82, -84, -75, -75, -83, -75, -84, -83, -83, -83, -84, -84, -82, -85, -83, -76, -85, -83, -84, -76, -83, -84, -84, -83, -84, -83, -83, -83, -83, -75, -86, -83, -83, -76, -76, -84, -70, -69, -75, -83, -62, -84, -76, -83, -70, -83, -82, -85, -84, -75, -84, -84, -83, -72, -76, -60, -84, -71, -62, -75, -83, -83, -83, -84, -75, -76, -83, -63, -59, -75, -83, -83, -83, -85, -77, -75, -76, -82, -83, -84, -76, -70, -85, -76, -76, -76, -84, -84, -75, -85, -83, -76, -83, -83, -76, -84, -76, -76, -83, -83, -76, -76, -75, -85, -76, -82, -59, -75, -83, -76, -83, -83, -75, -84, -82, -84, -83, -82, -76, -83, -83, -83, -83, -83, -78, -83, -85, -84, -83, -75, -84, -84, -84, -83, -85, -70, -83, -76, -82, -82, -71, -83, -82, -60, -83, -69, -83, -70, -71, -83, -59, -83, -75, -83, -83, -84, -70, -83, -83, -70, -71, -76, -83, -83, -75, -83, -70, -82, -84, -84, -83, -84, -83, -83, -83, -84, -83, -83, -83, -75, -83, -76, -85, -83, -83, -76, -84, -83, -82, -83, -84, -83, -83, -83, -77, -83, -84, -83, -83, -76, -83, -76, -70, -83, -83, -83, -60, -85, -69, -83, -84, -76, -84, -83, -76, -60, -84, -83, -71, -84, -84, -76, -76, -83, -70, -76, -83, -83, -84, -71, -83, -71, -76, -76, -84, -76, -76, -83, -76, -84, -71, -82, -79, -77, -76, -59, -84, -82, -75, -82, -83, -84, -75, -75, -83, -76, -83, -85, -83, -77, -83, -83, -83, -76, -83, -82, -82, -83, -70, -76, -84, -83, -84, -83, -83, -84, -76, -83, -84, -83, -76, -74, -83, -83, -72, -79, -84, -84, -83, -83, -84, -75, -83, -83, -84, -70, -83, -84, -83, -84, -82, -70, -59, -83, -82, -85, -85, -75, -84, -83, -85, -84, -83, -60, -83, -75, -83, -84, -83, -82, -83, -83, -83, -85, -83, -71, -83, -76, -83, -83, -83, -84, -83, -83, -83, -84, -84, -85, -83, -84, -83, -83, -82, -85, -83, -83, -83, -82, -70, -84, -75, -85, -84, -75, -84, -76, -83, -85, -84, -60, -77, -84, -83, -76, -80, -59, -84, -83, -75, -82, -76, -76, -75, -83, -83, -82, -85, -75, -75, -76, -83, -83, -70, -83, -72, -78, -75, -78, -84, -70, -76, -76, -67, -76, -75, -76, -83, -84, -70, -83, -84, -75, -85, -75, -83, -76, -85, -75, -72, -83, -60, -70, -84, -85, -76, -83, -84, -83, -84, -84, -70, -83, -83, -71, -82, -85, -83, -83, -83, -75, -82, -83, -83, -86, -75, -82, -82, -83, -83, -83, -83, -76, -83, -84, -85, -82, -83, -84, -83, -84, -83, -83, -75, -70, -60, -82, -83, -83, -85, -83, -84, -70, -84, -84, -84, -60, -85, -84, -83, -84, -84, -82, -83, -84, -58, -84, -84, -75, -72, -83, -84, -83, -83, -83, -83, -85, -75, -83, -82, -72, -71, -76, -84, -82, -83, -83, -78, -83, -77, -85, -83, -83, -75, -84, -83, -60, -76, -83, -83, -83, -83, -85, -76, -84, -76, -76, -82, -83, -83, -83, -75, -76, -83, -76, -75, -84, -71, -85, -84, -83, -76, -75, -85, -83, -83, -83, -73, -76, -83, -75, -85, -76, -84, -76, -86, -83, -76, -69, -70, -76, -84, -76, -76, -82, -83, -83, -84, -83, -83, -76, -77, -85, -76, -83, -83, -85, -75, -83, -83, -84, -84, -85, -83, -83, -83, -83, -83, -76, -84, -82, -84, -83, -82, -83, -83, -84, -83, -84, -83, -70, -70, -84, -83, -76, -83, -83, -83, -84, -85, -75, -84, -72, -84, -72, -83, -84, -83, -83, -70, -83, -82, -72, -82, -84, -82, -82, -83, -85, -83, -84, -83, -83, -76, -72, -75, -83, -86, -82, -83, -84, -76, -83, -82, -84, -83, -75, -85, -83, -84, -82, -81, -82, -83, -75, -82, -83, -83, -77, -75, -84, -60, -83, -85, -84, -76, -84, -76, -75, -85, -83, -82, -84, -76, -83, -83, -78, -75, -84, -85, -84, -83, -76, -83, -82, -75, -75, -82, -83, -83, -83, -83, -76, -84, -76, -76, -83, -83, -72, -84, -75, -76, -78, -83, -60, -84, -70, -60, -84, -76, -83, -75, -82, -69, -75, -82, -84, -75, -76, -86, -79, -83, -83, -84, -84, -75, -83, -74, -84, -75, -84, -83, -76, -82, -84, -83, -83, -70, -84, -75, -83, -82, -83, -83, -83, -59, -84, -69, -82, -75, -84, -83, -82, -75, -83, -84, -75, -73, -76, -83, -84, -85, -76, -83, -82, -83, -83, -83, -83, -83, -69, -83, -83, -84, -85, -85, -83, -85, -83, -78, -84, -82, -82, -76, -83, -85, -70, -84, -83, -84, -85, -84, -75, -82, -85, -83, -83, -76, -83, -83, -82, -75, -83, -75, -83, -83, -83, -76, -71, -83, -75, -83, -75, -69, -85, -84, -83, -76, -76, -69, -70, -75, -84, -60, -76, -83, -84, -84, -77, -83, -76, -75, -82, -83, -85, -76, -75, -83, -84, -84, -83, -82, -76, -75, -83, -83, -82, -84, -76, -75, -76, -85, -84, -70, -82, -83, -75, -71, -85, -84, -77, -83, -76, -84, -69, -84, -67, -59, -71, -83, -83, -83, -84, -84, -83, -84, -83, -84, -84, -84, -84, -83, -83, -76, -76, -83, -85, -83, -85, -60, -84, -84, -84, -83, -84, -71, -75, -85, -76, -71, -70, -83, -83, -83, -84, -84, -83, -83, -75, -84, -83, -75, -73, -83, -83, -66, -73, -82, -70, -83, -76, -83, -83, -86, -82, -83, -59, -70, -83, -71, -60, -70, -83, -75, -72, -84, -83, -83, -84, -84, -83, -84, -75, -84, -84, -83, -60, -83, -60, -83, -85, -83, -84, -75, -83, -75, -83, -82, -76, -82, -83, -62, -76, -83, -82, -84, -83, -83, -76, -75, -83, -85, -60, -75, -75, -84, -83, -82, -83, -76, -84, -76, -75, -84, -83, -82, -75, -78, -83, -74, -75, -83, -85, -59, -84, -77, -75, -85, -78, -83, -75, -82, -86, -75, -77, -83, -75, -83, -84, -83, -84, -83, -76, -75, -83, -84, -84, -84, -83, -82, -83, -83, -84, -76, -71, -83, -83, -83, -83, -70, -76, -84, -67, -83, -69, -85, -82, -84, -84, -85, -83, -85, -76, -83, -84, -83, -83, -76, -82, -70, -84, -82, -83, -84, -75, -72, -72, -84, -83, -84, -83, -70, -83, -83, -84, -76, -70, -83, -84, -83, -84, -84, -84, -84, -82, -76, -69, -75, -69, -84, -83, -84, -85, -80, -75, -84, -83, -83, -75, -76, -84, -83, -82, -84, -83, -83, -85, -75, -83, -76, -83, -85, -84, -77, -83, -75, -83, -85, -77, -84, -70, -76, -83, -84, -83, -71, -76, -84, -84, -77, -83, -86, -83, -83, -82, -76, -75, -82, -76, -75, -83, -84, -75, -84, -84, -82, -60, -75, -75, -83, -83, -76, -84, -76, -76, -84, -76, -83, -83, -83, -83, -83, -75, -83, -76, -76, -85, -83, -84, -82, -82, -76, -83, -84, -75, -83, -83, -83, -73, -71, -71, -83, -83, -82, -86, -83, -70, -85, -71, -83, -71, -84, -76, -83, -82, -83, -85, -83, -85, -85, -82, -70, -73, -62, -83, -60, -83, -84, -82, -84, -72, -70, -84, -83, -84, -83, -76, -83, -82, -85, -85, -84, -84, -83, -83, -60, -84, -78, -83, -84, -84, -69, -76, -84, -82, -83, -83, -82, -78, -71, -85, -79, -84, -76, -83, -83, -83, -63, -83, -76, -83, -70, -83, -72, -76, -76, -75, -60, -83, -84, -83, -84, -76, -75, -76, -71, -70, -77, -83, -84, -77, -60, -76, -84, -70, -58, -83, -84, -75, -71, -76, -84, -70, -84, -84, -75, -85, -69, -83, -83, -59, -85, -83, -69, -76, -76, -84, -83, -85, -60, -83, -83, -85, -59, -75, -84, -82, -84, -84, -84, -83, -74, -84, -84, -83, -70, -83, -82, -84, -75, -59, -72, -76, -84, -83, -83, -83, -83, -71, -75, -84, -83, -76, -84, -72, -71, -84, -83, -85, -83, -60, -86, -84, -82, -84, -84, -85, -71, -84, -83, -76, -84, -70, -83, -76, -70, -84, -75, -84, -63, -86, -83, -82, -60, -76, -83, -83, -70, -83, -75, -84, -83, -71, -84, -82, -83, -83, -78, -72, -84, -84, -83, -76, -59, -75, -83, -85, -83, -75, -83, -75, -75, -83, -60, -84, -83, -75, -83, -84, -76, -77, -60, -76, -73, -84, -76, -76, -83, -84, -77, -75, -77, -84, -72, -60, -82, -84, -84, -75, -84, -83, -71, -85, -85, -83, -83, -71, -76, -59, -85, -83, -84, -76, -85, -84, -83, -69, -84, -82, -84, -84, -82, -83, -83, -83, -83, -86, -76, -84, -71, -83, -85, -85, -83, -70, -70, -59, -83, -83, -69, -85, -69, -83, -83, -75, -77, -83, -76, -84, -69, -84, -84, -76, -83, -76, -83, -85, -70, -83, -71, -83, -85, -84, -84, -84, -59, -83, -83, -83, -76, -76, -83, -75, -70, -84, -75, -83, -84, -85, -84, -72, -83, -77, -76, -83, -84, -69, -84, -76, -59, -83, -72, -76, -83, -74, -84, -84, -76, -76, -82, -59, -76, -85, -83, -59, -82, -84, -60, -77, -84, -83, -84, -84, -60, -84, -59, -71, -76, -70, -83, -83, -84, -84, -60, -83, -82, -85, -84, -84, -69, -75, -75, -84, -83, -84, -82, -71, -83, -83, -84, -78, -75, -83, -84, -76, -84, -83, -85, -84, -71, -83, -75, -84, -84, -85, -85, -83, -84, -69, -83, -84, -76, -75, -83, -63, -85, -85, -84, -83, -85, -70, -84, -83, -70, -60, -84, -84, -84, -83, -83, -84, -70, -75, -85, -83, -75, -82, -83, -82, -72, -83, -83, -84, -84, -83, -84, -83, -75, -84, -60, -69, -75, -83, -71, -82, -59, -83, -76, -83, -83, -83, -77, -85, -69, -75, -83, -83, -70, -76, -74, -84, -72, -76, -75, -83, -84, -71, -83, -76, -83, -75, -77, -82, -83, -83, -84, -77, -75, -63, -77, -83, -83, -83, -77, -84, -77, -77, -75, -85, -83, -75, -85, -83, -75, -83, -83, -82, -77, -75, -75, -83, -84, -76, -76, -84, -85, -76, -75, -83, -75, -83, -60, -83, -84, -75, -83, -71, -83, -83, -84, -84, -83, -84, -84, -84, -76, -75, -84, -85, -84, -84, -83, -83, -84, -83, -77, -84, -73, -84, -83, -58, -85, -84, -83, -84, -83, -84, -77, -83, -75, -72, -84, -71, -84, -83, -83, -83, -85, -84, -76, -75, -85]"
   ]
  },
  {
   "cell_type": "code",
   "execution_count": 2,
   "id": "07162989",
   "metadata": {},
   "outputs": [
    {
     "data": {
      "text/plain": [
       "2208"
      ]
     },
     "execution_count": 2,
     "metadata": {},
     "output_type": "execute_result"
    }
   ],
   "source": [
    "len(d)"
   ]
  },
  {
   "cell_type": "code",
   "execution_count": 3,
   "id": "a7f7a90a",
   "metadata": {},
   "outputs": [],
   "source": [
    "import matplotlib.pyplot as plt"
   ]
  },
  {
   "cell_type": "code",
   "execution_count": 4,
   "id": "a2760ad3",
   "metadata": {},
   "outputs": [
    {
     "data": {
      "text/plain": [
       "[<matplotlib.lines.Line2D at 0x1f80b336da0>]"
      ]
     },
     "execution_count": 4,
     "metadata": {},
     "output_type": "execute_result"
    },
    {
     "data": {
      "image/png": "[encoded data removed]",
      "text/plain": [
       "<Figure size 432x288 with 1 Axes>"
      ]
     },
     "metadata": {
      "needs_background": "light"
     },
     "output_type": "display_data"
    }
   ],
   "source": [
    "plt.plot(d)"
   ]
  },
  {
   "cell_type": "code",
   "execution_count": 5,
   "id": "55cbc26a",
   "metadata": {},
   "outputs": [],
   "source": [
    "import statistics as st\n",
    "m = st.multimode(d)"
   ]
  },
  {
   "cell_type": "code",
   "execution_count": 6,
   "id": "1c27bf87",
   "metadata": {},
   "outputs": [
    {
     "name": "stdout",
     "output_type": "stream",
     "text": [
      "(-86, 16)\n",
      "(-85, 149)\n",
      "(-84, 425)\n",
      "(-83, 690)\n",
      "(-82, 143)\n",
      "(-81, 1)\n",
      "(-80, 2)\n",
      "(-79, 6)\n",
      "(-78, 15)\n",
      "(-77, 43)\n",
      "(-76, 232)\n",
      "(-75, 193)\n",
      "(-74, 8)\n",
      "(-73, 8)\n",
      "(-72, 28)\n",
      "(-71, 48)\n",
      "(-70, 75)\n",
      "(-69, 32)\n",
      "(-68, 1)\n",
      "(-67, 3)\n",
      "(-66, 2)\n",
      "(-63, 6)\n",
      "(-62, 7)\n",
      "(-60, 44)\n",
      "(-59, 28)\n",
      "(-58, 3)\n"
     ]
    }
   ],
   "source": [
    "s = list(set(d))\n",
    "for i in s:\n",
    "    print((i, d.count(i)))"
   ]
  },
  {
   "cell_type": "code",
   "execution_count": 12,
   "id": "35c6453b",
   "metadata": {},
   "outputs": [],
   "source": [
    "n1 = 0\n",
    "n2 = 0\n",
    "for i in s:\n",
    "    if d.count(i) > 142:\n",
    "        n1 += (i * d.count(i))\n",
    "        n2 += (d.count(i))\n",
    "r = n1/n2"
   ]
  },
  {
   "cell_type": "code",
   "execution_count": 13,
   "id": "f67c66c3",
   "metadata": {},
   "outputs": [
    {
     "data": {
      "text/plain": [
       "-81.58733624454149"
      ]
     },
     "execution_count": 13,
     "metadata": {},
     "output_type": "execute_result"
    }
   ],
   "source": [
    "r"
   ]
  },
  {
   "cell_type": "code",
   "execution_count": 14,
   "id": "11d8dd92",
   "metadata": {},
   "outputs": [],
   "source": [
    "n = 3.5"
   ]
  },
  {
   "cell_type": "code",
   "execution_count": 15,
   "id": "995728e7",
   "metadata": {},
   "outputs": [],
   "source": [
    "dist = 10 ** ((-60 + 81.4967845659164) / (10 * n))"
   ]
  },
  {
   "cell_type": "code",
   "execution_count": 16,
   "id": "e2231922",
   "metadata": {},
   "outputs": [
    {
     "data": {
      "text/plain": [
       "4.1133327628098035"
      ]
     },
     "execution_count": 16,
     "metadata": {},
     "output_type": "execute_result"
    }
   ],
   "source": [
    "dist"
   ]
  }
 ],
 "metadata": {
  "kernelspec": {
   "display_name": "Python 3 (ipykernel)",
   "language": "python",
   "name": "python3"
  },
  "language_info": {
   "codemirror_mode": {
    "name": "ipython",
    "version": 3
   },
   "file_extension": ".py",
   "mimetype": "text/x-python",
   "name": "python",
   "nbconvert_exporter": "python",
   "pygments_lexer": "ipython3",
   "version": "3.10.1"
  }
 },
 "nbformat": 4,
 "nbformat_minor": 5
}
