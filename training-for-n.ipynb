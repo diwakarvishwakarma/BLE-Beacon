{
 "cells": [
  {
   "cell_type": "code",
   "execution_count": 1,
   "id": "294dcddb",
   "metadata": {},
   "outputs": [
    {
     "name": "stdout",
     "output_type": "stream",
     "text": [
      "[0.40546511 0.69314718 1.25276297 1.38629436]\n"
     ]
    }
   ],
   "source": [
    "import numpy as np\n",
    "d = [1.5, 2, 3.5, 4]\n",
    "logd = np.log(d)\n",
    "print(logd)\n",
    "r = [-75.53061224, -77.63265306, -78.65306122, -79.30612245]\n",
    "n = [1.07, 1.32, 0.92, 0.94]"
   ]
  },
  {
   "cell_type": "code",
   "execution_count": 2,
   "id": "18013473",
   "metadata": {},
   "outputs": [
    {
     "data": {
      "image/png": "[encoded data removed]",
      "text/plain": [
       "<Figure size 288x216 with 1 Axes>"
      ]
     },
     "metadata": {
      "needs_background": "light"
     },
     "output_type": "display_data"
    }
   ],
   "source": [
    "import matplotlib.pyplot as plt\n",
    "plt.figure(figsize=(4, 3))\n",
    "ax = plt.axes()\n",
    "ax.scatter(logd, r)\n",
    "ax.plot(logd, r)\n",
    "ax.set_xlabel('rssi')\n",
    "ax.set_ylabel('n')\n",
    "plt.show()"
   ]
  },
  {
   "cell_type": "code",
   "execution_count": 3,
   "id": "7aef52b8",
   "metadata": {},
   "outputs": [],
   "source": [
    "from sklearn.linear_model import LinearRegression"
   ]
  },
  {
   "cell_type": "code",
   "execution_count": 4,
   "id": "729171f3",
   "metadata": {},
   "outputs": [],
   "source": [
    "lr = LinearRegression()"
   ]
  },
  {
   "cell_type": "code",
   "execution_count": 5,
   "id": "187c0e99",
   "metadata": {},
   "outputs": [
    {
     "data": {
      "text/plain": [
       "LinearRegression()"
      ]
     },
     "execution_count": 5,
     "metadata": {},
     "output_type": "execute_result"
    }
   ],
   "source": [
    "lr.fit([logd], [r])"
   ]
  },
  {
   "cell_type": "code",
   "execution_count": 6,
   "id": "01c148f2",
   "metadata": {},
   "outputs": [],
   "source": [
    "plt.show()"
   ]
  },
  {
   "cell_type": "code",
   "execution_count": 7,
   "id": "39082f5e",
   "metadata": {},
   "outputs": [
    {
     "data": {
      "text/plain": [
       "(0.934417404570842, -77.78061224249998)"
      ]
     },
     "execution_count": 7,
     "metadata": {},
     "output_type": "execute_result"
    }
   ],
   "source": [
    "import numpy as np\n",
    "import matplotlib.pyplot as plt\n",
    "\n",
    "from sklearn.linear_model import LinearRegression\n",
    "from sklearn.metrics import mean_squared_error, r2_score\n",
    "\n",
    "x = np.array([logd])\n",
    "y = np.array([r])\n",
    "n = np.size(x)\n",
    "\n",
    "x_mean = np.mean(x)\n",
    "y_mean = np.mean(y)\n",
    "x_mean, y_mean"
   ]
  },
  {
   "cell_type": "code",
   "execution_count": 8,
   "id": "64840df2",
   "metadata": {},
   "outputs": [
    {
     "name": "stdout",
     "output_type": "stream",
     "text": [
      "slope b1 is -3.4076032221462955\n",
      "intercept b0 is -74.5964884838548\n"
     ]
    }
   ],
   "source": [
    "Sxy = np.sum(x*y)- n*x_mean*y_mean\n",
    "Sxx = np.sum(x*x)-n*x_mean*x_mean\n",
    "\n",
    "b1 = Sxy/Sxx\n",
    "b0 = y_mean-b1*x_mean\n",
    "print('slope b1 is', b1)\n",
    "print('intercept b0 is', b0)"
   ]
  },
  {
   "cell_type": "code",
   "execution_count": null,
   "id": "9b2df972",
   "metadata": {},
   "outputs": [],
   "source": [
    "plt.scatter(x,y)\n",
    "plt.xlabel('Independent variable X')\n",
    "plt.ylabel('Dependent variable y')\n",
    "y_pred = b1 * x"
   ]
  },
  {
   "cell_type": "code",
   "execution_count": null,
   "id": "bb22c6a3",
   "metadata": {},
   "outputs": [],
   "source": [
    "print(x.T)"
   ]
  },
  {
   "cell_type": "code",
   "execution_count": null,
   "id": "7238579b",
   "metadata": {},
   "outputs": [],
   "source": [
    "print(y_pred)"
   ]
  },
  {
   "cell_type": "code",
   "execution_count": null,
   "id": "e3de9b34",
   "metadata": {},
   "outputs": [],
   "source": [
    "plt.scatter(x.T, y_pred, color = 'green')\n",
    "plt.scatter(x, y, color = 'red')\n",
    "plt.xlabel('X')\n",
    "plt.ylabel('y')"
   ]
  },
  {
   "cell_type": "code",
   "execution_count": null,
   "id": "02331661",
   "metadata": {},
   "outputs": [],
   "source": [
    "error = y - y_pred\n",
    "se = np.sum(error**2)\n",
    "print('squared error is', se)"
   ]
  },
  {
   "cell_type": "code",
   "execution_count": null,
   "id": "fe21c292",
   "metadata": {},
   "outputs": [],
   "source": [
    "mse = se/n\n",
    "print('mean squared error is', mse)\n",
    "rmse = np.sqrt(mse)\n",
    "print('root mean square error is', rmse)"
   ]
  },
  {
   "cell_type": "code",
   "execution_count": null,
   "id": "d5d1083a",
   "metadata": {},
   "outputs": [],
   "source": [
    "SSt = np.sum((y - y_mean)**2)\n",
    "R2 = 1 - (se/SSt)\n",
    "print('R square is', R2)\n",
    "regression_model = LinearRegression()"
   ]
  },
  {
   "cell_type": "code",
   "execution_count": null,
   "id": "67bc5cde",
   "metadata": {},
   "outputs": [],
   "source": [
    "# Fit the data(train the model)\n",
    "regression_model.fit(x.T, y)\n",
    "\n",
    "# Predict\n",
    "y_predicted = regression_model.predict(x.T)\n",
    "\n",
    "# model evaluation\n",
    "mse=mean_squared_error(y, y_predicted)\n",
    "\n",
    "rmse = np.sqrt(mean_squared_error(y, y_predicted))\n",
    "r2 = r2_score(y, y_predicted)"
   ]
  },
  {
   "cell_type": "code",
   "execution_count": null,
   "id": "c82f7d34",
   "metadata": {},
   "outputs": [],
   "source": [
    "# printing values\n",
    "print('Slope:' ,regression_model.coef_)\n",
    "print('Intercept:', regression_model.intercept_)\n",
    "print('MSE:',mse)\n",
    "print('Root mean squared error: ', rmse)\n",
    "print('R2 score: ', r2)"
   ]
  },
  {
   "cell_type": "code",
   "execution_count": null,
   "id": "a717d295",
   "metadata": {},
   "outputs": [],
   "source": []
  },
  {
   "cell_type": "code",
   "execution_count": null,
   "id": "bde7dc62",
   "metadata": {},
   "outputs": [],
   "source": []
  },
  {
   "cell_type": "code",
   "execution_count": null,
   "id": "98fede43",
   "metadata": {},
   "outputs": [],
   "source": []
  }
 ],
 "metadata": {
  "kernelspec": {
   "display_name": "Python 3 (ipykernel)",
   "language": "python",
   "name": "python3"
  },
  "language_info": {
   "codemirror_mode": {
    "name": "ipython",
    "version": 3
   },
   "file_extension": ".py",
   "mimetype": "text/x-python",
   "name": "python",
   "nbconvert_exporter": "python",
   "pygments_lexer": "ipython3",
   "version": "3.10.1"
  }
 },
 "nbformat": 4,
 "nbformat_minor": 5
}
