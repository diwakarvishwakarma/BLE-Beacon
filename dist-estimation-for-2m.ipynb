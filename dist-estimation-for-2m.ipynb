{
 "cells": [
  {
   "cell_type": "code",
   "execution_count": 1,
   "id": "dfc528b7",
   "metadata": {},
   "outputs": [],
   "source": [
    "d = [-69, -81, -68, -82, -66, -82, -53, -67, -67, -69, -80, -67, -81, -67, -82, -69, -81, -69, -67, -68, -54, -69, -68, -82, -68, -81, -68, -67, -69, -82, -54, -81, -67, -68, -68, -82, -82, -68, -71, -69, -82, -81, -66, -80, -68, -69, -69, -68, -82, -68, -81, -66, -81, -68, -81, -53, -69, -67, -69, -69, -82, -70, -81, -68, -81, -82, -68, -82, -67, -81, -68, -68, -67, -69, -68, -54, -81, -67, -81, -52, -68, -69, -80, -52, -68, -74, -69, -67, -81, -67, -82, -67, -54, -67, -54, -68, -52, -83, -68, -67, -53, -67, -68, -81, -54, -82, -68, -81, -68, -69, -82, -53, -68, -54, -82, -68, -68, -67, -67, -66, -66, -53, -82, -68, -68, -69, -69, -66, -68, -66, -68, -68, -82, -69, -69, -82, -67, -82, -68, -68, -67, -82, -68, -81, -68, -83, -53, -81, -68, -68, -67, -53, -69, -67, -81, -70, -69, -68, -81, -52, -82, -68, -67, -81, -68, -81, -66, -82, -68, -69, -67, -66, -67, -69, -69, -81, -67, -69, -70, -82, -54, -68, -54, -82, -54, -69, -69, -67, -67, -81, -52, -68, -67, -68, -69, -69, -67, -82, -68, -66, -81, -68, -82, -68, -67, -66, -52, -81, -52, -82, -68, -82, -67, -81, -53, -82, -66, -67, -67, -81, -54, -81, -66, -81, -67, -82, -69, -81, -81, -67, -81, -53, -69, -81, -67, -81, -68, -81, -67, -81, -67, -81, -82, -68, -70, -53, -70, -67, -68, -67, -69, -70, -81, -69, -66, -69, -69, -68, -69, -81, -69, -81, -69, -68, -67, -81, -67, -68, -68, -69, -68, -82, -52, -81, -66, -68, -69, -68, -54, -67, -82, -68, -80, -53, -81, -68, -68, -53, -69, -57, -68, -82, -68, -69, -53, -67, -69, -66, -68, -82, -66, -81, -66, -69, -68, -67, -81, -68, -68, -67, -69, -70, -53, -82, -68, -69, -69, -70, -69, -66, -68, -54, -80, -53, -69, -68, -82, -69, -54, -68, -81, -69, -81, -67, -81, -69, -67, -81, -66, -82, -67, -53, -68, -81, -67, -82, -69, -80, -68, -68, -66, -68, -81, -66, -82, -67, -68, -68, -82, -68, -69, -67, -81, -53, -69, -68, -69, -69, -67, -82, -68, -82, -69, -81, -52, -81, -81, -69, -69, -81, -52, -68, -79, -66, -81, -69, -81, -68, -67, -69, -81, -69, -81, -68, -81, -67, -81, -66, -81, -66, -81, -67, -82, -68, -69, -68, -81, -66, -82, -66, -81, -67, -81, -67, -81, -58, -69, -52, -68, -69, -82, -69, -69, -69, -82, -68, -81, -69, -68, -81, -66, -69, -68, -69, -81, -68, -81, -67, -81, -66, -68, -82, -69, -67, -68, -69, -68, -82, -69, -81, -68, -68, -81, -70, -68, -66, -81, -66, -67, -67, -54, -81, -66, -69, -68, -81, -69, -58, -68, -68, -67, -63, -68, -81, -67, -82, -69, -68, -80, -69, -52, -81, -67, -67, -82, -68, -68, -68, -53, -68, -69, -69, -69, -67, -66, -67, -69, -82, -69, -81, -69, -67, -69, -67, -81, -66, -81, -68, -82, -52, -82, -67, -64, -70, -66, -81, -54, -68, -69, -66, -69, -54, -67, -81, -53, -81, -67, -82, -69, -52, -68, -68, -65, -52, -70, -66, -69, -53, -82, -53, -82, -68, -53, -68, -82, -68, -82, -52, -67, -68, -81, -67, -81, -68, -69, -68, -80, -68, -81, -66, -81, -66, -80, -67, -82, -68, -81, -69, -68, -81, -58, -68, -69, -82, -68, -82, -66, -81, -68, -83, -67, -67, -68, -67, -53, -81, -67, -81, -69, -81, -67, -70, -69, -69, -69, -65, -81, -67, -68, -83, -68, -68, -68, -70, -68, -81, -66, -82, -68, -68, -81, -67, -68, -68, -70, -66, -81, -68, -67, -81, -69, -53, -68, -82, -66, -82, -67, -67, -69, -68, -68, -82, -53, -70, -67, -69, -69, -67, -68, -66, -81, -68, -81, -69, -68, -68, -67, -69, -68, -82, -67, -68, -66, -69, -68, -67, -67, -69, -81, -67, -81, -67, -67, -82, -67, -81, -68, -81, -69, -80, -69, -82, -53, -69, -81, -68, -80, -68, -68, -81, -67, -68, -52, -81, -57, -53, -68, -82, -67, -91, -68, -68, -80, -81, -53, -81, -68, -64, -69, -68, -68, -82, -69, -81, -67, -81, -52, -81, -69, -64, -68, -81, -66, -81, -69, -53, -82, -68, -81, -68, -67, -67, -68, -68, -79, -66, -81, -69, -82, -54, -82, -69, -82, -69, -68, -82, -53, -81, -66, -82, -66, -83, -68, -75, -67, -53, -69, -81, -53, -74, -67, -82, -69, -81, -82, -81, -67, -70, -81, -53, -53, -81, -66, -81, -68, -68, -68, -81, -66, -82, -68, -81, -81, -68, -70, -68, -66, -82, -67, -81, -67, -69, -69, -68, -69, -81, -69, -69, -69, -69, -69, -82, -69, -54, -70, -66, -67, -69, -81, -68, -53, -68, -69, -69, -68, -68, -69, -81, -53, -81, -67, -53, -69, -52, -67, -81, -68, -68, -80, -69, -68, -67, -53, -54, -67, -65, -66, -82, -68, -69, -81, -69, -54, -68, -67, -80, -69, -80, -53, -69, -81, -66, -67, -66, -54, -68, -83, -67, -81, -68, -68, -67, -69, -68, -66, -69, -69, -82, -66, -70, -69, -80, -67, -81, -66, -82, -69, -81, -67, -81, -52, -81, -67, -68, -53, -80, -68, -82, -68, -68, -67, -80, -52, -80, -69, -81, -52, -81, -54, -81, -66, -82, -69, -81, -68, -69, -67, -66, -69, -81, -67, -81, -54, -81, -66, -69, -68, -82, -66, -68, -67, -66, -69, -82, -68, -81, -69, -81, -69, -70, -54, -82, -68, -67, -82, -66, -69, -68, -82, -67, -81, -67, -70, -68, -82, -67, -68, -81, -66, -68, -81, -52, -69, -68, -81, -68, -68, -82, -69, -69, -67, -67, -82, -68, -67, -81, -66, -82, -67, -68, -69, -70, -69, -68, -69, -68, -67, -82, -69, -81, -67, -68, -69, -68, -68, -81, -68, -81, -67, -69, -53, -81, -66, -81, -68, -80, -68, -69, -68, -69, -67, -54, -52, -82, -53, -68, -70, -54, -69, -67, -67, -81, -68, -82, -68, -81, -68, -70, -80, -67, -67, -68, -81, -69, -69, -52, -69, -81, -68, -68, -68, -81, -69, -81, -66, -69, -68, -54, -67, -81, -69, -67, -69, -82, -67, -81, -67, -81, -68, -68, -81, -67, -82, -67, -66, -53, -82, -67, -81, -68, -68, -68, -83, -68, -80, -66, -81, -69, -70, -68, -81, -68, -68, -68, -70, -82, -68, -69, -81, -66, -82, -68, -81, -67, -69, -69, -81, -68, -81, -53, -81, -67, -81, -68, -81, -68, -81, -66, -66, -68, -68, -81, -68, -82, -52, -80, -68, -81, -68, -70, -53, -70, -68, -68, -80, -67, -82, -69, -81, -69, -80, -81, -68, -67, -80, -67, -67, -54, -68, -81, -68, -68, -68, -68, -82, -70, -81, -67, -53, -68, -67, -68, -68, -82, -67, -81, -68, -68, -81, -68, -67, -68, -81, -67, -67, -69, -68, -81, -66, -81, -81, -69, -67, -69, -69, -53, -69, -68, -81, -67, -66, -81, -53, -68, -69, -65, -52, -82, -68, -82, -53, -68, -68, -69, -68, -68, -67, -66, -69, -81, -69, -68, -81, -67, -81, -53, -69, -81, -68, -81, -69, -81, -81, -68, -53, -68, -81, -69, -82, -52, -81, -69, -68, -68, -81, -67, -82, -67, -69, -68, -82, -68, -81, -53, -81, -67, -53, -67, -68, -81, -67, -69, -67, -82, -67, -82, -69, -81, -53, -81, -67, -81, -68, -66, -81, -68, -81, -67, -81, -69, -54, -69, -69, -82, -68, -81, -66, -82, -68, -69, -81, -69, -66, -81, -68, -68, -66, -81, -69, -81, -66, -81, -67, -81, -69, -53, -54, -82, -52, -68, -69, -68, -80, -68, -80, -68, -80, -67, -70, -69, -82, -66, -52, -69, -68, -82, -67, -53, -82, -67, -81, -67, -67, -70, -81, -67, -68, -81, -69, -66, -82, -67, -82, -68, -68, -82, -67, -67, -67, -82, -52, -82, -67, -68, -68, -68, -81, -69, -81, -69, -82, -68, -70, -68, -81, -68, -53, -69, -69, -81, -69, -69, -69, -68, -53, -53, -82, -68, -69, -68, -59, -68, -52, -68, -70, -81, -69, -68, -82, -67, -81, -69, -67, -81, -67, -81, -67, -81, -69, -82, -68, -83, -68, -53, -81, -69, -53, -68, -81, -66, -67, -68, -82, -68, -81, -69, -68, -54, -70, -53, -82, -66, -81, -67, -67, -54, -80, -69, -66, -82, -66, -81, -67, -81, -69, -82, -66, -66, -81, -53, -82, -66, -81, -68, -67, -67, -67, -82, -67, -80, -69, -69, -81, -67, -82, -82, -68, -68, -81, -81, -67, -81, -69, -81, -69, -82, -68, -53, -82, -69, -81, -53, -81, -52, -81, -66, -67, -82, -82, -69, -69, -69, -81, -69, -68, -82, -68, -69, -66, -52, -81, -67, -81, -69, -68, -81, -69, -92, -68, -69, -67, -82, -81, -69, -53, -68, -82, -69, -53, -82, -66, -81, -62, -67, -53, -81, -68, -81, -82, -69, -68, -67, -68, -69, -69, -66, -69, -81, -66, -68, -53, -68, -68, -68, -68, -68, -81, -68, -82, -68, -68, -54, -68, -69, -81, -67, -82, -53, -67, -81, -67, -81, -52, -68, -69, -69, -66, -81, -54, -68, -69, -81, -82, -67, -68, -67, -66, -82, -53, -69, -68, -83, -68, -69, -81, -81, -68, -81, -68, -67, -81, -54, -81, -66, -81, -69, -68, -69, -52, -66, -69, -67, -82, -69, -82, -66, -81, -81, -69, -81, -51, -69, -67, -68, -81, -66, -81, -68, -70, -68, -66, -82, -66, -69, -67, -69, -81, -69, -81, -82, -81, -69, -80, -68, -66, -66, -68, -82, -67, -81, -68, -68, -82, -67, -67, -53, -81, -68, -82, -53, -82, -82, -81, -68, -67, -68, -82, -69, -66, -66, -67, -68, -80, -69, -69, -67, -82, -81, -64, -67, -81, -69, -66, -70, -67, -67, -68, -67, -68, -68, -81, -81, -81, -68, -53, -67, -69, -67, -67, -67, -68, -82, -67, -68, -81, -69, -54, -67, -54, -81, -69, -67, -81, -53, -69, -68, -68, -67, -68, -68, -69, -67, -69, -68, -81, -68, -81, -53, -54, -80, -69, -81, -67, -81, -62, -81, -66, -68, -81, -69, -82, -66, -54, -67, -82, -67, -81, -67, -53, -53, -81, -53, -81, -68, -67, -66, -81, -68, -81, -68, -82, -66, -67, -68, -67, -81, -68, -81, -68, -81, -67, -69, -66, -67, -68, -81, -81, -54, -82, -67, -81, -67, -53, -82, -69, -67, -82, -67, -68, -67, -81, -69, -80, -66, -81, -66, -80, -67, -54, -82, -69, -66, -81, -81, -53, -52, -80, -67, -68, -67, -69, -81, -68, -82, -67, -81, -68, -68, -67, -68, -69, -54, -81, -82, -69, -69, -70, -82, -81, -69, -68, -67, -59, -68, -82, -68, -81, -68, -81, -67, -68, -53, -64, -66, -62, -81, -67, -81, -68, -68, -69, -68, -82, -68, -68, -81, -69, -69, -67, -69, -54, -68, -81, -69, -81, -52, -67, -81, -68, -68, -83, -81, -68, -82, -69, -67, -82, -68, -82, -66, -81, -68, -82, -68, -67, -80, -53, -81, -67, -63, -81, -67, -81, -68, -69, -68, -67, -66, -80, -69, -80, -66, -81, -53, -69, -69, -68, -81, -65, -80, -66, -52, -67, -69, -69, -68, -68, -69, -81, -66, -70, -81, -81, -66, -81, -69, -66, -68, -68, -80, -66, -67, -81, -67, -80, -67, -81, -66, -81, -69, -69, -81, -63, -69, -67, -81, -68, -81, -52, -81, -69, -67, -72, -66, -65, -67, -82, -66, -80, -69, -68, -69, -52, -68, -80, -59, -69, -67, -81, -54, -69, -82, -68, -68, -67, -67, -81, -53, -68, -68, -68, -80, -67, -80, -67, -69, -68, -68, -80, -68, -68, -52, -81, -69, -66, -80, -53, -59, -67, -53, -80, -68, -79, -68, -69, -69, -69, -67, -59, -52, -81, -67, -67, -81, -66, -69, -52, -69, -68, -80, -81, -68, -69, -82, -66, -53, -52, -82, -66, -69, -68, -68, -82, -69, -67, -81, -67, -81, -52, -81, -69, -67, -69, -68, -81, -69, -81, -68, -66, -81, -68, -59, -69, -69, -66, -81, -67, -68, -67, -68, -53, -66, -66, -68, -66, -68, -82, -68, -82, -68, -81, -67, -81, -68, -80, -69, -66, -81, -68, -69, -66, -71, -52, -80, -54, -81, -68, -82, -68, -53, -53, -81, -81, -68, -80, -68, -80, -80, -54, -81, -68, -68, -69, -68, -58, -81, -68, -81, -68, -66, -68, -80, -66, -82, -67, -68, -81, -68, -81, -68, -82, -69, -68, -53, -81, -66, -82, -52, -54, -82, -67, -69, -66, -81, -66, -69, -68, -81, -52, -68, -68, -65, -66, -82, -68, -81, -66, -69, -67, -81, -53, -54, -68, -58, -81, -68, -68, -68, -70, -68, -69, -81, -52, -68, -68, -68, -67, -53, -67, -68, -53, -68, -69, -81, -68, -67, -68, -68, -66, -81, -68, -80, -67, -81, -68, -67, -69, -81, -54, -67, -68]"
   ]
  },
  {
   "cell_type": "code",
   "execution_count": 2,
   "id": "c2e2226a",
   "metadata": {},
   "outputs": [
    {
     "data": {
      "text/plain": [
       "2131"
      ]
     },
     "execution_count": 2,
     "metadata": {},
     "output_type": "execute_result"
    }
   ],
   "source": [
    "len(d)"
   ]
  },
  {
   "cell_type": "code",
   "execution_count": 3,
   "id": "7cfd9794",
   "metadata": {},
   "outputs": [
    {
     "data": {
      "text/plain": [
       "[<matplotlib.lines.Line2D at 0x222b1e52ad0>]"
      ]
     },
     "execution_count": 3,
     "metadata": {},
     "output_type": "execute_result"
    },
    {
     "data": {
      "image/png": "[encoded data removed]",
      "text/plain": [
       "<Figure size 432x288 with 1 Axes>"
      ]
     },
     "metadata": {
      "needs_background": "light"
     },
     "output_type": "display_data"
    }
   ],
   "source": [
    "import matplotlib.pyplot as plt\n",
    "plt.plot(d)"
   ]
  },
  {
   "cell_type": "code",
   "execution_count": 4,
   "id": "19f584a6",
   "metadata": {},
   "outputs": [],
   "source": [
    "import statistics as st\n",
    "m = st.multimode(d)\n",
    "m"
   ]
  },
  {
   "cell_type": "code",
   "execution_count": 6,
   "id": "92f9d31f",
   "metadata": {},
   "outputs": [
    {
     "name": "stdout",
     "output_type": "stream",
     "text": [
      "(-92, 1)\n",
      "(-91, 1)\n",
      "(-83, 10)\n",
      "(-82, 193)\n",
      "(-81, 378)\n",
      "(-80, 58)\n",
      "(-79, 3)\n",
      "(-75, 1)\n",
      "(-74, 2)\n",
      "(-72, 1)\n",
      "(-71, 2)\n",
      "(-70, 39)\n",
      "(-69, 321)\n",
      "(-68, 455)\n",
      "(-67, 291)\n",
      "(-66, 148)\n",
      "(-65, 7)\n",
      "(-64, 5)\n",
      "(-63, 3)\n",
      "(-62, 3)\n",
      "(-59, 6)\n",
      "(-58, 5)\n",
      "(-57, 2)\n",
      "(-54, 50)\n",
      "(-53, 95)\n",
      "(-52, 50)\n",
      "(-51, 1)\n"
     ]
    }
   ],
   "source": [
    "s = list(set(d))\n",
    "for i in s:\n",
    "    print((i, d.count(i)))"
   ]
  },
  {
   "cell_type": "code",
   "execution_count": 10,
   "id": "995d540a",
   "metadata": {},
   "outputs": [],
   "source": [
    "n1 = 0\n",
    "n2 = 0\n",
    "for i in s:\n",
    "    if d.count(i) > 148:\n",
    "        n1 += (i * d.count(i))\n",
    "        n2 += (d.count(i))\n",
    "r = n1/n2"
   ]
  },
  {
   "cell_type": "code",
   "execution_count": 11,
   "id": "bbb83cab",
   "metadata": {},
   "outputs": [
    {
     "data": {
      "text/plain": [
       "-72.66788766788767"
      ]
     },
     "execution_count": 11,
     "metadata": {},
     "output_type": "execute_result"
    }
   ],
   "source": [
    "r"
   ]
  },
  {
   "cell_type": "code",
   "execution_count": 12,
   "id": "91c16dd4",
   "metadata": {},
   "outputs": [
    {
     "data": {
      "text/plain": [
       "2.0930162238551437"
      ]
     },
     "execution_count": 12,
     "metadata": {},
     "output_type": "execute_result"
    }
   ],
   "source": [
    "n = 3.5\n",
    "dist = 10 ** ((-60 + 71.22704081632654) / (10 * n))\n",
    "dist"
   ]
  },
  {
   "cell_type": "code",
   "execution_count": null,
   "id": "4b31bfe8",
   "metadata": {},
   "outputs": [],
   "source": []
  },
  {
   "cell_type": "code",
   "execution_count": null,
   "id": "a443f02e",
   "metadata": {},
   "outputs": [],
   "source": []
  }
 ],
 "metadata": {
  "kernelspec": {
   "display_name": "Python 3 (ipykernel)",
   "language": "python",
   "name": "python3"
  },
  "language_info": {
   "codemirror_mode": {
    "name": "ipython",
    "version": 3
   },
   "file_extension": ".py",
   "mimetype": "text/x-python",
   "name": "python",
   "nbconvert_exporter": "python",
   "pygments_lexer": "ipython3",
   "version": "3.10.1"
  }
 },
 "nbformat": 4,
 "nbformat_minor": 5
}
